{
  "nbformat": 4,
  "nbformat_minor": 0,
  "metadata": {
    "colab": {
      "provenance": [],
      "gpuType": "T4"
    },
    "kernelspec": {
      "name": "python3",
      "display_name": "Python 3"
    },
    "language_info": {
      "name": "python"
    },
    "accelerator": "GPU"
  },
  "cells": [
    {
      "cell_type": "code",
      "execution_count": 53,
      "metadata": {
        "colab": {
          "base_uri": "https://localhost:8080/"
        },
        "id": "7wsTgoeIJNxr",
        "outputId": "3e4d4eae-a1e1-49e0-9003-6bd18f3dc23e"
      },
      "outputs": [
        {
          "output_type": "stream",
          "name": "stdout",
          "text": [
            "Cloning into 'transformers-s15'...\n",
            "remote: Enumerating objects: 10, done.\u001b[K\n",
            "remote: Counting objects: 100% (10/10), done.\u001b[K\n",
            "remote: Compressing objects: 100% (8/8), done.\u001b[K\n",
            "remote: Total 10 (delta 0), reused 0 (delta 0), pack-reused 0\u001b[K\n",
            "Receiving objects: 100% (10/10), 8.40 KiB | 8.40 MiB/s, done.\n"
          ]
        }
      ],
      "source": [
        "import os, sys, importlib\n",
        "\n",
        "user = \"Paurnima-Chavan\"\n",
        "repo = \"transformers-s15\"\n",
        "src_dir = \"src\"\n",
        "\n",
        "\n",
        "if os.path.isdir(repo):\n",
        "    !rm -rf {repo}\n",
        "\n",
        "!git clone https://github.com/{user}/{repo}.git\n",
        "\n",
        "\n",
        "path = f\"{repo}/{src_dir}\"\n",
        "if not path in sys.path:\n",
        "    sys.path.insert(1, path)"
      ]
    },
    {
      "cell_type": "code",
      "source": [
        "!pip install tokenizers\n",
        "!pip3 install datasets\n",
        "!pip install torchmetrics"
      ],
      "metadata": {
        "colab": {
          "base_uri": "https://localhost:8080/"
        },
        "id": "yVsKqTJdWflt",
        "outputId": "8c9d97bd-224c-4382-f68f-e80e6a604d99"
      },
      "execution_count": 54,
      "outputs": [
        {
          "output_type": "stream",
          "name": "stdout",
          "text": [
            "Requirement already satisfied: tokenizers in /usr/local/lib/python3.10/dist-packages (0.13.3)\n",
            "Requirement already satisfied: datasets in /usr/local/lib/python3.10/dist-packages (2.14.4)\n",
            "Requirement already satisfied: numpy>=1.17 in /usr/local/lib/python3.10/dist-packages (from datasets) (1.23.5)\n",
            "Requirement already satisfied: pyarrow>=8.0.0 in /usr/local/lib/python3.10/dist-packages (from datasets) (9.0.0)\n",
            "Requirement already satisfied: dill<0.3.8,>=0.3.0 in /usr/local/lib/python3.10/dist-packages (from datasets) (0.3.7)\n",
            "Requirement already satisfied: pandas in /usr/local/lib/python3.10/dist-packages (from datasets) (1.5.3)\n",
            "Requirement already satisfied: requests>=2.19.0 in /usr/local/lib/python3.10/dist-packages (from datasets) (2.31.0)\n",
            "Requirement already satisfied: tqdm>=4.62.1 in /usr/local/lib/python3.10/dist-packages (from datasets) (4.66.1)\n",
            "Requirement already satisfied: xxhash in /usr/local/lib/python3.10/dist-packages (from datasets) (3.3.0)\n",
            "Requirement already satisfied: multiprocess in /usr/local/lib/python3.10/dist-packages (from datasets) (0.70.15)\n",
            "Requirement already satisfied: fsspec[http]>=2021.11.1 in /usr/local/lib/python3.10/dist-packages (from datasets) (2023.6.0)\n",
            "Requirement already satisfied: aiohttp in /usr/local/lib/python3.10/dist-packages (from datasets) (3.8.5)\n",
            "Requirement already satisfied: huggingface-hub<1.0.0,>=0.14.0 in /usr/local/lib/python3.10/dist-packages (from datasets) (0.16.4)\n",
            "Requirement already satisfied: packaging in /usr/local/lib/python3.10/dist-packages (from datasets) (23.1)\n",
            "Requirement already satisfied: pyyaml>=5.1 in /usr/local/lib/python3.10/dist-packages (from datasets) (6.0.1)\n",
            "Requirement already satisfied: attrs>=17.3.0 in /usr/local/lib/python3.10/dist-packages (from aiohttp->datasets) (23.1.0)\n",
            "Requirement already satisfied: charset-normalizer<4.0,>=2.0 in /usr/local/lib/python3.10/dist-packages (from aiohttp->datasets) (3.2.0)\n",
            "Requirement already satisfied: multidict<7.0,>=4.5 in /usr/local/lib/python3.10/dist-packages (from aiohttp->datasets) (6.0.4)\n",
            "Requirement already satisfied: async-timeout<5.0,>=4.0.0a3 in /usr/local/lib/python3.10/dist-packages (from aiohttp->datasets) (4.0.3)\n",
            "Requirement already satisfied: yarl<2.0,>=1.0 in /usr/local/lib/python3.10/dist-packages (from aiohttp->datasets) (1.9.2)\n",
            "Requirement already satisfied: frozenlist>=1.1.1 in /usr/local/lib/python3.10/dist-packages (from aiohttp->datasets) (1.4.0)\n",
            "Requirement already satisfied: aiosignal>=1.1.2 in /usr/local/lib/python3.10/dist-packages (from aiohttp->datasets) (1.3.1)\n",
            "Requirement already satisfied: filelock in /usr/local/lib/python3.10/dist-packages (from huggingface-hub<1.0.0,>=0.14.0->datasets) (3.12.2)\n",
            "Requirement already satisfied: typing-extensions>=3.7.4.3 in /usr/local/lib/python3.10/dist-packages (from huggingface-hub<1.0.0,>=0.14.0->datasets) (4.7.1)\n",
            "Requirement already satisfied: idna<4,>=2.5 in /usr/local/lib/python3.10/dist-packages (from requests>=2.19.0->datasets) (3.4)\n",
            "Requirement already satisfied: urllib3<3,>=1.21.1 in /usr/local/lib/python3.10/dist-packages (from requests>=2.19.0->datasets) (2.0.4)\n",
            "Requirement already satisfied: certifi>=2017.4.17 in /usr/local/lib/python3.10/dist-packages (from requests>=2.19.0->datasets) (2023.7.22)\n",
            "Requirement already satisfied: python-dateutil>=2.8.1 in /usr/local/lib/python3.10/dist-packages (from pandas->datasets) (2.8.2)\n",
            "Requirement already satisfied: pytz>=2020.1 in /usr/local/lib/python3.10/dist-packages (from pandas->datasets) (2023.3)\n",
            "Requirement already satisfied: six>=1.5 in /usr/local/lib/python3.10/dist-packages (from python-dateutil>=2.8.1->pandas->datasets) (1.16.0)\n",
            "Requirement already satisfied: torchmetrics in /usr/local/lib/python3.10/dist-packages (1.1.1)\n",
            "Requirement already satisfied: numpy>1.20.0 in /usr/local/lib/python3.10/dist-packages (from torchmetrics) (1.23.5)\n",
            "Requirement already satisfied: torch>=1.8.1 in /usr/local/lib/python3.10/dist-packages (from torchmetrics) (2.0.1+cu118)\n",
            "Requirement already satisfied: lightning-utilities>=0.8.0 in /usr/local/lib/python3.10/dist-packages (from torchmetrics) (0.9.0)\n",
            "Requirement already satisfied: packaging>=17.1 in /usr/local/lib/python3.10/dist-packages (from lightning-utilities>=0.8.0->torchmetrics) (23.1)\n",
            "Requirement already satisfied: typing-extensions in /usr/local/lib/python3.10/dist-packages (from lightning-utilities>=0.8.0->torchmetrics) (4.7.1)\n",
            "Requirement already satisfied: filelock in /usr/local/lib/python3.10/dist-packages (from torch>=1.8.1->torchmetrics) (3.12.2)\n",
            "Requirement already satisfied: sympy in /usr/local/lib/python3.10/dist-packages (from torch>=1.8.1->torchmetrics) (1.12)\n",
            "Requirement already satisfied: networkx in /usr/local/lib/python3.10/dist-packages (from torch>=1.8.1->torchmetrics) (3.1)\n",
            "Requirement already satisfied: jinja2 in /usr/local/lib/python3.10/dist-packages (from torch>=1.8.1->torchmetrics) (3.1.2)\n",
            "Requirement already satisfied: triton==2.0.0 in /usr/local/lib/python3.10/dist-packages (from torch>=1.8.1->torchmetrics) (2.0.0)\n",
            "Requirement already satisfied: cmake in /usr/local/lib/python3.10/dist-packages (from triton==2.0.0->torch>=1.8.1->torchmetrics) (3.27.2)\n",
            "Requirement already satisfied: lit in /usr/local/lib/python3.10/dist-packages (from triton==2.0.0->torch>=1.8.1->torchmetrics) (16.0.6)\n",
            "Requirement already satisfied: MarkupSafe>=2.0 in /usr/local/lib/python3.10/dist-packages (from jinja2->torch>=1.8.1->torchmetrics) (2.1.3)\n",
            "Requirement already satisfied: mpmath>=0.19 in /usr/local/lib/python3.10/dist-packages (from sympy->torch>=1.8.1->torchmetrics) (1.3.0)\n"
          ]
        }
      ]
    },
    {
      "cell_type": "code",
      "source": [
        "from config import get_config\n",
        "\n",
        "cfg = get_config()\n",
        "cfg['batch_size'] = 10\n",
        "cfg['preload'] = None\n",
        "cfg['num_epochs'] = 5\n",
        "\n",
        "from train import train_model\n",
        "train_model(cfg)\n"
      ],
      "metadata": {
        "colab": {
          "base_uri": "https://localhost:8080/"
        },
        "id": "x9lF_WjNL_Sz",
        "outputId": "ab67dff8-1b96-4f03-90dc-d9eaec0cd5fb"
      },
      "execution_count": 56,
      "outputs": [
        {
          "output_type": "stream",
          "name": "stdout",
          "text": [
            "Using device: cuda\n",
            "Max length of source sentence: 1\n",
            "Max length of target sentence: 1\n"
          ]
        },
        {
          "output_type": "stream",
          "name": "stderr",
          "text": [
            "Processing Epoch 00: 100%|██████████| 2910/2910 [20:23<00:00,  2.38it/s, loss=1.430]\n"
          ]
        },
        {
          "output_type": "stream",
          "name": "stdout",
          "text": [
            "--------------------------------------------------------------------------------\n",
            "    SOURCE: Do cats eat bats?' and sometimes, 'Do bats eat cats?' for, you see, as she couldn't answer either question, it didn't much matter which way she put it.\n",
            "    TARGET: I gatti, poi, mangiano i pipistrelli? — E a volte: — I pipistrelli mangiano i gatti? — perchè non potendo rispondere nè all'una nè all'altra domanda, non le importava di dirla in un modo o nell'altro.\n",
            " PREDICTED: \n",
            "--------------------------------------------------------------------------------\n",
            "    SOURCE: He ran hard for a quarter of a mile, and at the end of that distance it began to be borne in upon him as a strange and curious thing that there were so few people about, and that there were no shops open.\n",
            "    TARGET: Corse per un quarto di miglio, e alla fine di quel tratto, cominciò a pensare ch’era strano e curioso che vi fosse tanta poca gente in giro, e che nessuna bottega fosse ancora aperta.\n",
            " PREDICTED: \n",
            "--------------------------------------------------------------------------------\n"
          ]
        },
        {
          "output_type": "stream",
          "name": "stderr",
          "text": [
            "Processing Epoch 01: 100%|██████████| 2910/2910 [20:28<00:00,  2.37it/s, loss=1.228]\n"
          ]
        },
        {
          "output_type": "stream",
          "name": "stdout",
          "text": [
            "--------------------------------------------------------------------------------\n",
            "    SOURCE: 'One district is sufficient, and Sviyazhsky evidently belongs to the Opposition,' he said, and every one but Levin understood him.\n",
            "    TARGET: — Basta un distretto, e Svijazskij significa già, evidentemente, l’opposizione — disse con parole comprensibili a tutti fuor che a Levin.\n",
            " PREDICTED: \n",
            "--------------------------------------------------------------------------------\n",
            "    SOURCE: On meeting Anna Karenina he, like a clever man of the world, being Karenin's enemy in the service, tried to be specially amiable to her, the wife of his foe. 'Don't do anything!' he repeated with a smile.\n",
            "    TARGET: Incontrata Anna Karenina, egli, nemico per ragioni di ufficio di Aleksej Aleksandrovic, come uomo di mondo e intelligente, aveva cercato di essere particolarmente gentile con lei, moglie del suo nemico. — In nessun modo — replicò, sorridendo con finezza — è il mezzo migliore.\n",
            " PREDICTED: \n",
            "--------------------------------------------------------------------------------\n"
          ]
        },
        {
          "output_type": "stream",
          "name": "stderr",
          "text": [
            "Processing Epoch 02: 100%|██████████| 2910/2910 [20:26<00:00,  2.37it/s, loss=0.834]\n"
          ]
        },
        {
          "output_type": "stream",
          "name": "stdout",
          "text": [
            "--------------------------------------------------------------------------------\n",
            "    SOURCE: As for my wall, made, as before, with long stakes or piles, those piles grew all like trees, and were by this time grown so big, and spread so very much, that there was not the least appearance, to any one’s view, of any habitation behind them.\n",
            "    TARGET: Quanto alla mia palizzata fatta, come sapete, di lunghi stecconi o pali, questi erano tutti cresciuti a guisa d’alberi, e venuti a tanta grossezza ed estensione di frasche, che non v’era a qual si fosse occhio veggente la menoma apparenza di abitazione dopo di essi.\n",
            " PREDICTED: \n",
            "--------------------------------------------------------------------------------\n",
            "    SOURCE: 'Almost.\n",
            "    TARGET: — Eh, sì.\n",
            " PREDICTED: \n",
            "--------------------------------------------------------------------------------\n"
          ]
        },
        {
          "output_type": "stream",
          "name": "stderr",
          "text": [
            "Processing Epoch 03: 100%|██████████| 2910/2910 [20:25<00:00,  2.37it/s, loss=0.833]\n"
          ]
        },
        {
          "output_type": "stream",
          "name": "stdout",
          "text": [
            "--------------------------------------------------------------------------------\n",
            "    SOURCE: They talked till three in the morning, and only then were they sufficiently reconciled to fall asleep.\n",
            "    TARGET: Parlarono fino alle tre di notte. Soltanto alle tre si rappacificarono e riuscirono ad addormentarsi.\n",
            " PREDICTED: \n",
            "--------------------------------------------------------------------------------\n",
            "    SOURCE: As if it were possible for anyone to live as he is living with me!\n",
            "    TARGET: Si può forse, sentendo qualcosa, vivere come vive lui con me?\n",
            " PREDICTED: \n",
            "--------------------------------------------------------------------------------\n"
          ]
        },
        {
          "output_type": "stream",
          "name": "stderr",
          "text": [
            "Processing Epoch 04: 100%|██████████| 2910/2910 [20:24<00:00,  2.38it/s, loss=0.834]\n"
          ]
        },
        {
          "output_type": "stream",
          "name": "stdout",
          "text": [
            "--------------------------------------------------------------------------------\n",
            "    SOURCE: 'And his most legitimate wish is that your children should not be nameless.'\n",
            "    TARGET: — E poi, la cosa più legittima: vuole che i vostri figli abbiano un nome.\n",
            " PREDICTED: \n",
            "--------------------------------------------------------------------------------\n",
            "    SOURCE: Of course nobody knew; nobody at Waterloo ever does know where a train is going to start from, or where a train when it does start is going to, or anything about it.\n",
            "    TARGET: Naturalmente nessuno lo sapeva; nessuno alla stazione di Waterloo sa mai di dove un treno deve partire, o dove va un treno quando parte, o qualche altra cosa di simile.\n",
            " PREDICTED: \n",
            "--------------------------------------------------------------------------------\n"
          ]
        }
      ]
    }
  ]
}